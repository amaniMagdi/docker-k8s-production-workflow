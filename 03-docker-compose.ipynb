{
 "cells": [
  {
   "cell_type": "markdown",
   "metadata": {},
   "source": [
    "\n",
    "`docker run redis`: Docker will get **redis image** from docker hub if it not exists locally\n",
    "\n",
    "**Docker Compose** \n",
    "\n",
    " - Separate CLI that gets installed along with Docker.\n",
    " - Used to start up multiple Docker containers at the same time. \n",
    " - Automates some of the long-winded arguments we were passing to `docker run`.\n",
    "\n",
    "**Note:** When two containers created using `docker-compose` so no need to make network configurations between them, they already by default can contact each other.\n",
    "\n",
    "- `docker-compose up`\n",
    "\n",
    "**Above command does the following:**\n",
    "\n",
    "1.  First checks for images:\n",
    "    -   If you have a `build` directive in your docker-compose.yml, it will build the image if it doesn't exist\n",
    "    -   If you specify an existing image (like `image: postgres`), it will pull it if not present locally\n",
    "2.  Then creates and starts containers:\n",
    "    -   Creates new containers based on the service definitions\n",
    "    -   Starts these containers\n",
    "    \n",
    "-   `docker-compose build` - just builds/rebuilds images\n",
    "\n",
    "-   `docker-compose up --build` - rebuilds images and starts containers"
   ]
  },
  {
   "cell_type": "markdown",
   "metadata": {},
   "source": []
  }
 ],
 "metadata": {
  "language_info": {
   "name": "python"
  }
 },
 "nbformat": 4,
 "nbformat_minor": 2
}
