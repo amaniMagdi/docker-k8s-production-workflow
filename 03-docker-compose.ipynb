{
 "cells": [
  {
   "cell_type": "markdown",
   "metadata": {},
   "source": [
    "\n",
    "`docker run redis`: Docker will get **redis image** from docker hub if it not exists locally\n",
    "\n",
    "**Docker Compose** \n",
    "\n",
    " - Separate CLI that gets installed along with Docker.\n",
    " - Used to start up multiple Docker containers at the same time. \n",
    " - Automates some of the long-winded arguments we were passing to `docker run`.\n",
    "\n",
    "**Note:** When two containers created using `docker-compose` so no need to make network configurations between them, they already by default can contact each other.\n",
    "\n",
    "- `docker-compose up`\n",
    "\n",
    "**Above command does the following:**\n",
    "\n",
    "1.  First checks for images:\n",
    "    -   If you have a `build` directive in your docker-compose.yml, it will build the image if it doesn't exist, and rebuild it if there is change in the Dockerfile or the build context specified\n",
    "    -   If you specify an existing image (like `image: postgres`), it will pull it if not present locally\n",
    "2.  Then creates and starts containers:\n",
    "    -   Creates new containers based on the service definitions\n",
    "    -   Starts these containers\n",
    "    > **Note:** If the conainers are up, it will not recreate them.\n",
    "    \n",
    "-   `docker-compose build` - just builds/rebuilds images\n",
    "\n",
    "-   `docker-compose up --build` - rebuilds images and creates then starts containers\n",
    "\n",
    "- `docker-compose up -d` - Starts the containers defined in the `docker-compose.yml` file in detached mode (in the background).\n",
    "\n",
    "    > **Note:** If the containers do not exist, they will be created and started. If they are already running, they will not be recreated unless there are changes in the configuration. \n",
    "\n",
    "- ` docker-compose down` - Stops and removes all containers defined in the `docker-compose.yml` file, along with any networks created by the Compose file."
   ]
  },
  {
   "cell_type": "markdown",
   "metadata": {},
   "source": [
    "**Restart policies in Docker Compose**\n",
    "\n",
    "1.  **no**: Do not automatically restart the container (default), use it as **\"no\"** with quotation as raw no means False.\n",
    "2.  **always**: Always restart the container if it stops, regardless of the exit status.\n",
    "3.  **unless-stopped**: Restart the container unless it has been manually stopped.\n",
    "4.  **on-failure**: Restart the container only if it exits with a non-zero exit status. You can specify an optional maximum retry count.\n",
    "\n",
    "**Example:**\n",
    "```yaml\n",
    "services:\n",
    "  my_service:\n",
    "    image: my_image\n",
    "    restart: always\n",
    "```\n",
    "In Docker Compose, the restart policies can be associated with specific exit status codes when using the `on-failure` policy. **Here are the relevant status codes:**\n",
    "\n",
    " - **0 :** we exited and everything is OK\n",
    "  \n",
    " - **1,2,3, etc:** we exited because something went wrong!"
   ]
  },
  {
   "cell_type": "markdown",
   "metadata": {},
   "source": []
  }
 ],
 "metadata": {
  "language_info": {
   "name": "python"
  }
 },
 "nbformat": 4,
 "nbformat_minor": 2
}
